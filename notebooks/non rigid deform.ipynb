{
 "cells": [
  {
   "cell_type": "code",
   "execution_count": 77,
   "metadata": {},
   "outputs": [
    {
     "name": "stderr",
     "output_type": "stream",
     "text": [
      "/usr/local/lib/python3.5/dist-packages/skimage/transform/_warps.py:105: UserWarning: The default mode, 'constant', will be changed to 'reflect' in skimage 0.15.\n",
      "  warn(\"The default mode, 'constant', will be changed to 'reflect' in \"\n",
      "/usr/local/lib/python3.5/dist-packages/skimage/transform/_warps.py:110: UserWarning: Anti-aliasing will be enabled by default in skimage 0.15 to avoid aliasing artifacts when down-sampling images.\n",
      "  warn(\"Anti-aliasing will be enabled by default in skimage 0.15 to \"\n",
      "/usr/local/lib/python3.5/dist-packages/ipykernel_launcher.py:41: DeprecationWarning: object of type <class 'float'> cannot be safely interpreted as an integer.\n",
      "/usr/local/lib/python3.5/dist-packages/ipykernel_launcher.py:42: DeprecationWarning: object of type <class 'float'> cannot be safely interpreted as an integer.\n"
     ]
    }
   ],
   "source": [
    "# \n",
    "\n",
    "import copy\n",
    "import os\n",
    "import sys\n",
    "\n",
    "import matplotlib.pyplot as plt\n",
    "import numpy as np\n",
    "import scipy.spatial\n",
    "import scipy.optimize\n",
    "import skimage.data\n",
    "import skimage.transform\n",
    "\n",
    "# TODO: figure out a better way of doing this\n",
    "# sys.path.append(os.path.abspath(os.path.join(os.getcwd(), os.pardir)))\n",
    "# import register\n",
    "# import utils\n",
    "\n",
    "im = skimage.data.astronaut()\n",
    "im = np.uint8(255 * skimage.transform.resize(im, (200, 250)))\n",
    "\n",
    "\n",
    "def get_rbf_design_matrix(x_samp, x_data, sigma=1):\n",
    "    x_s_d_dist_sq = np.power(\n",
    "        scipy.spatial.distance.cdist(x_samp, x_data), 2)\n",
    "    x_s_d_exp = np.exp(- x_s_d_dist_sq / sigma ** 2)\n",
    "    return x_s_d_exp\n",
    "\n",
    "\n",
    "# orig sampling (where full data is)\n",
    "x_range = np.arange(0, im.shape[1])\n",
    "y_range = np.arange(0, im.shape[0])\n",
    "\n",
    "xx, yy = np.meshgrid(x_range, y_range)\n",
    "xin, yin = xx.flatten(), yy.flatten()\n",
    "\n",
    "# later sampling (where sparse data is)\n",
    "SAMP_SPACE = 4\n",
    "\n",
    "# resample image\n",
    "x_range_samp = np.linspace(0, im.shape[1] - 1, im.shape[1] / SAMP_SPACE)\n",
    "y_range_samp = np.linspace(0, im.shape[0] - 1, im.shape[0] / SAMP_SPACE)\n",
    "\n",
    "# im_sampled \n",
    "xx_samp, yy_samp = np.meshgrid(x_range_samp, y_range_samp)\n",
    "xin_samp, yin_samp = xx_samp.flatten(), yy_samp.flatten()\n",
    "\n",
    "im_sampled = im[:, :, 0][y_range_samp.astype('uint8')][:, x_range_samp.astype('uint8')]\n"
   ]
  },
  {
   "cell_type": "code",
   "execution_count": 88,
   "metadata": {},
   "outputs": [],
   "source": [
    "# reconstruct orig image based on sampling\n",
    "\n",
    "SIG=8\n",
    "x_samp = np.array([xin_samp, xin_samp]).T\n",
    "H_samp = get_rbf_design_matrix(x_samp, x_samp, sigma=SIG)\n",
    "\n",
    "y_samp = im_sampled.reshape(len(x_samp), 1)\n",
    "\n",
    "# solve least squares\n",
    "lam = .1\n",
    "H_t_H = np.dot(H_samp.T, H_samp)\n",
    "lam_I = lam * np.eye(H_t_H.shape[0])\n",
    "H_t_H_inv = np.linalg.inv(H_t_H + lam_I)\n",
    "w = np.dot(H_t_H_inv, np.dot(H_samp.T, y_samp))\n",
    "\n",
    "# now apply to large im \n",
    "x_data_all = np.array([xin, yin]).T\n",
    "H_all = get_rbf_design_matrix(x_data_all, x_samp, sigma=SIG)\n",
    "\n",
    "y_all = np.dot(H_all, w)\n",
    "im_estimated = y_all.reshape(xx.shape)\n",
    "\n",
    "# show images\n",
    "plt.figure(1)\n",
    "plt.imshow(im_sampled.reshape(xx_samp.shape), cmap='gray')\n",
    "\n",
    "plt.figure(2)\n",
    "plt.imshow(im_estimated, cmap='gray')\n",
    "\n",
    "plt.show()"
   ]
  }
 ],
 "metadata": {
  "kernelspec": {
   "display_name": "Python 3",
   "language": "python",
   "name": "python3"
  },
  "language_info": {
   "codemirror_mode": {
    "name": "ipython",
    "version": 3
   },
   "file_extension": ".py",
   "mimetype": "text/x-python",
   "name": "python",
   "nbconvert_exporter": "python",
   "pygments_lexer": "ipython3",
   "version": "3.5.2"
  }
 },
 "nbformat": 4,
 "nbformat_minor": 2
}
